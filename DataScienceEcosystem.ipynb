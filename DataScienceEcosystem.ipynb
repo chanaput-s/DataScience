{
 "cells": [
  {
   "cell_type": "markdown",
   "id": "c7a2f087",
   "metadata": {},
   "source": [
    "# Data Science Tools and Ecosystem\n",
    "In this notebook, Data Science Tools and Ecosystem are summarized."
   ]
  },
  {
   "cell_type": "markdown",
   "id": "3e651f44",
   "metadata": {},
   "source": [
    "**Objectives:**\n",
    "* Packages, APIs, Datasets and Models\n",
    "* Introduction to Jupyter Notebooks\n",
    "* Introduction to R and RStudio"
   ]
  },
  {
   "cell_type": "markdown",
   "id": "1ba068ea",
   "metadata": {},
   "source": [
    "Some of the popular languages that Data Scientists use are:\n",
    "* Python\n",
    "* R\n",
    "* SQL"
   ]
  },
  {
   "cell_type": "markdown",
   "id": "002a9055",
   "metadata": {},
   "source": [
    "## Author\n",
    "Chanaput "
   ]
  },
  {
   "cell_type": "markdown",
   "id": "365a661f",
   "metadata": {},
   "source": [
    "Some of the commonly used libraries used by Data Scientists include:\n",
    "* Pandas\n",
    "* Numpy\n",
    "* Scikit-learn"
   ]
  },
  {
   "cell_type": "markdown",
   "id": "b88cf6e7",
   "metadata": {},
   "source": [
    "| Data Science Tools |\n",
    "| --- |\n",
    "| Jupyter Notebook |\n",
    "| RStudio |\n",
    "| Apache Zeppelin |"
   ]
  },
  {
   "cell_type": "markdown",
   "id": "61c9da39",
   "metadata": {},
   "source": [
    "### Below are a few examples of evaluating arithmetic expressions in Python"
   ]
  },
  {
   "cell_type": "code",
   "execution_count": 6,
   "id": "3bb08333",
   "metadata": {},
   "outputs": [
    {
     "data": {
      "text/plain": [
       "17"
      ]
     },
     "execution_count": 6,
     "metadata": {},
     "output_type": "execute_result"
    }
   ],
   "source": [
    "#This a simple arithmetic expression to mutiply then add integers\n",
    "(3*4)+5"
   ]
  },
  {
   "cell_type": "code",
   "execution_count": 7,
   "id": "4a9d11c2",
   "metadata": {},
   "outputs": [
    {
     "data": {
      "text/plain": [
       "3.3333333333333335"
      ]
     },
     "execution_count": 7,
     "metadata": {},
     "output_type": "execute_result"
    }
   ],
   "source": [
    "#This will convert 200 minutes to hours by diving by 60\n",
    "200/60"
   ]
  },
  {
   "cell_type": "code",
   "execution_count": null,
   "id": "a379740c",
   "metadata": {},
   "outputs": [],
   "source": []
  }
 ],
 "metadata": {
  "kernelspec": {
   "display_name": "Python 3 (ipykernel)",
   "language": "python",
   "name": "python3"
  },
  "language_info": {
   "codemirror_mode": {
    "name": "ipython",
    "version": 3
   },
   "file_extension": ".py",
   "mimetype": "text/x-python",
   "name": "python",
   "nbconvert_exporter": "python",
   "pygments_lexer": "ipython3",
   "version": "3.11.5"
  }
 },
 "nbformat": 4,
 "nbformat_minor": 5
}
